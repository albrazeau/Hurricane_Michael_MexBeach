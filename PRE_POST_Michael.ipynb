{
 "cells": [
  {
   "cell_type": "code",
   "execution_count": 1,
   "metadata": {},
   "outputs": [],
   "source": [
    "## Python 3.6\n",
    "\n",
    "import os\n",
    "from glob import glob\n",
    "import gdal\n",
    "import fiona\n",
    "import ogr\n",
    "from datetime import datetime\n",
    "import imageio"
   ]
  },
  {
   "cell_type": "code",
   "execution_count": 2,
   "metadata": {},
   "outputs": [],
   "source": [
    "import sys\n",
    "sys.path.append(r'C:\\Program Files\\QGIS 3.0\\bin')\n",
    "import gdal_merge as gm"
   ]
  },
  {
   "cell_type": "code",
   "execution_count": 3,
   "metadata": {},
   "outputs": [],
   "source": [
    "# Define the tif_enve_to_poly function\n",
    "# Getting the extent of the DEM\n",
    "# ulx, uly is the upper left corner, lrx, lry is the lower right corner\n",
    "# poly is returned as an ogr geometry object/Wkt\n",
    "def tif_enve_to_poly(tif_path):\n",
    "    src = gdal.Open(tif_path)\n",
    "    ulx, xres, xskew, uly, yskew, yres  = src.GetGeoTransform()\n",
    "    lrx = ulx + (src.RasterXSize * xres)\n",
    "    lry = uly + (src.RasterYSize * yres)\n",
    "\n",
    "    # Create polygon from bounding box\n",
    "    # Create ring\n",
    "    ring = ogr.Geometry(ogr.wkbLinearRing)\n",
    "    ring.AddPoint(ulx, uly)\n",
    "    ring.AddPoint(ulx, lry)\n",
    "    ring.AddPoint(lrx,lry)\n",
    "    ring.AddPoint(lrx, uly)\n",
    "    ring.AddPoint(ulx, uly)\n",
    "\n",
    "    # Create polygon\n",
    "    poly = ogr.Geometry(ogr.wkbPolygon)\n",
    "    poly.AddGeometry(ring)\n",
    "    \n",
    "    return poly"
   ]
  },
  {
   "cell_type": "code",
   "execution_count": 4,
   "metadata": {},
   "outputs": [],
   "source": [
    "# Paths\n",
    "txt_file = r'C:\\Users\\Administrator\\Data\\HurricaneMichael\\intersects_lists.txt'\n",
    "extent_shpfile = r'C:\\Users\\Administrator\\Data\\HurricaneMichael\\Mexico_Beach.shp'\n",
    "tiff_dir = r'C:\\Users\\Administrator\\Data\\HurricaneMichael\\20181011a_RGB'\n",
    "\n",
    "tiff_filetype = '.tif'"
   ]
  },
  {
   "cell_type": "code",
   "execution_count": 5,
   "metadata": {},
   "outputs": [
    {
     "name": "stdout",
     "output_type": "stream",
     "text": [
      "534\n"
     ]
    }
   ],
   "source": [
    "tiffs = glob(os.path.join(tiff_dir, '*{}'.format(tiff_filetype)))\n",
    "print(len(tiffs))"
   ]
  },
  {
   "cell_type": "code",
   "execution_count": 6,
   "metadata": {},
   "outputs": [
    {
     "name": "stdout",
     "output_type": "stream",
     "text": [
      "Start time =  2018-10-12 23:13:41.433430 \n",
      "\n",
      "0 / 534\n",
      "100 / 534\n",
      "C:\\Users\\Administrator\\Data\\HurricaneMichael\\20181011a_RGB\\20181011aC0852530w295700n.tif\n",
      "C:\\Users\\Administrator\\Data\\HurricaneMichael\\20181011a_RGB\\20181011aC0852530w295830n.tif\n",
      "C:\\Users\\Administrator\\Data\\HurricaneMichael\\20181011a_RGB\\20181011aC0852700w295700n.tif\n",
      "C:\\Users\\Administrator\\Data\\HurricaneMichael\\20181011a_RGB\\20181011aC0852700w295830n.tif\n",
      "200 / 534\n",
      "300 / 534\n",
      "400 / 534\n",
      "500 / 534\n",
      "Time complete:  2018-10-12 23:13:55.892373\n",
      "Processing time =  0:00:14.460944\n"
     ]
    }
   ],
   "source": [
    "# Start your engines\n",
    "start = datetime.now()\n",
    "print('Start time = ', start, '\\n')\n",
    "\n",
    "driver = ogr.GetDriverByName(\"ESRI Shapefile\")\n",
    "dataSource = driver.Open(extent_shpfile, 0)\n",
    "layer = dataSource.GetLayer()\n",
    "\n",
    "tiff_intersect_list = []\n",
    "tiff_intersect_paths = []\n",
    "\n",
    "for feature in layer:\n",
    "    MEgeom = feature.GetGeometryRef()\n",
    "\n",
    "    for i, tiff in enumerate(tiffs):\n",
    "        tiffname = os.path.basename(tiff).split('.')[0]\n",
    "        tiff_extent = tif_enve_to_poly(tiff)\n",
    "        if i %100 == 0:\n",
    "            print(i, '/', len(tiffs))\n",
    "        \n",
    "        if tiff_extent.Intersect(MEgeom):\n",
    "            print(tiff)\n",
    "            tiff_intersect_list.append(tiffname)\n",
    "            tiff_intersect_paths.append(tiff)\n",
    "\n",
    "with open(txt_file, 'w') as text:\n",
    "    text.write('There are {} tiffs that intersect.\\n\\nTiff names:\\n'.format(len(tiff_intersect_list))\\\n",
    "               + str(tiff_intersect_list) + '\\n\\nTiff Paths:\\n' + str(tiff_intersect_paths))\n",
    "    \n",
    "# Game over\n",
    "print('Time complete: ', datetime.now())\n",
    "proc_time = datetime.now()-start\n",
    "print('Processing time = ', proc_time)"
   ]
  },
  {
   "cell_type": "code",
   "execution_count": 7,
   "metadata": {},
   "outputs": [],
   "source": [
    "# merge the post hurricane imagery\n",
    "# lazy hard code\n",
    "gm.main(['', '-o', r'C:\\Users\\Administrator\\Data\\HurricaneMichael\\mex_beach_post.tif',\\\n",
    "         r'C:\\Users\\Administrator\\Data\\HurricaneMichael\\20181011a_RGB\\20181011aC0852530w295700n.tif',\\\n",
    "         r'C:\\Users\\Administrator\\Data\\HurricaneMichael\\20181011a_RGB\\20181011aC0852530w295830n.tif',\\\n",
    "         r'C:\\Users\\Administrator\\Data\\HurricaneMichael\\20181011a_RGB\\20181011aC0852700w295700n.tif',\\\n",
    "         r'C:\\Users\\Administrator\\Data\\HurricaneMichael\\20181011a_RGB\\20181011aC0852700w295830n.tif']) "
   ]
  },
  {
   "cell_type": "code",
   "execution_count": 8,
   "metadata": {},
   "outputs": [],
   "source": [
    "# merge the pre hurricane imagery\n",
    "# lazy hard code\n",
    "gm.main(['', '-o', r'C:\\Users\\Administrator\\Data\\HurricaneMichael\\mex_beach_pre.tif',\\\n",
    "         r'C:\\Users\\Administrator\\Data\\HurricaneMichael\\USGS\\High Resolution Orthoimagery\\2988950_67125\\FL\\2012\\201212_bay_county_fl_10in_sp_clr\\vol001\\67125.tif',\\\n",
    "         r'C:\\Users\\Administrator\\Data\\HurricaneMichael\\USGS\\High Resolution Orthoimagery\\2989445_67126\\FL\\2012\\201212_bay_county_fl_10in_sp_clr\\vol002\\67126.tif'])"
   ]
  },
  {
   "cell_type": "code",
   "execution_count": null,
   "metadata": {},
   "outputs": [],
   "source": [
    "### use QGIS to visually clip and project the imagery\n",
    "### MAKE SURE TO SET RESOLUTION TO BE THE SAME FOR BOTH IMAGES"
   ]
  },
  {
   "cell_type": "code",
   "execution_count": 9,
   "metadata": {},
   "outputs": [
    {
     "name": "stderr",
     "output_type": "stream",
     "text": [
      "C:\\Users\\Administrator\\Anaconda3\\lib\\site-packages\\imageio\\plugins\\_tifffile.py:7285: UserWarning: module 'imageio.plugins._tifffile' has no attribute 'decode_packbits'\n",
      "  Functionality might be degraded or be slow.\n",
      "\n",
      "  warnings.warn(\"%s%s\" % (e, warn))\n",
      "C:\\Users\\Administrator\\Anaconda3\\lib\\site-packages\\imageio\\plugins\\_tifffile.py:7285: UserWarning: module 'imageio.plugins._tifffile' has no attribute 'decode_lzw'\n",
      "  Functionality might be degraded or be slow.\n",
      "\n",
      "  warnings.warn(\"%s%s\" % (e, warn))\n",
      "C:\\Users\\Administrator\\Anaconda3\\lib\\site-packages\\imageio\\plugins\\_tifffile.py:7285: UserWarning: module 'imageio.plugins._tifffile' has no attribute 'unpack_ints'\n",
      "  Functionality might be degraded or be slow.\n",
      "\n",
      "  warnings.warn(\"%s%s\" % (e, warn))\n",
      "C:\\Users\\Administrator\\Anaconda3\\lib\\site-packages\\imageio\\plugins\\_tifffile.py:7285: UserWarning: module 'imageio.plugins._tifffile' has no attribute 'reverse_bitorder'\n",
      "  Functionality might be degraded or be slow.\n",
      "\n",
      "  warnings.warn(\"%s%s\" % (e, warn))\n",
      "WARNING:root:Lossy conversion from float32 to uint8. Range [0.0, 255.0]. Convert image to uint8 prior to saving to suppress this warning.\n",
      "WARNING:root:Lossy conversion from float32 to uint8. Range [0.0, 255.0]. Convert image to uint8 prior to saving to suppress this warning.\n"
     ]
    }
   ],
   "source": [
    "# Make the gif, ignore the fact that imageio hates my guts\n",
    "# lazy hard code\n",
    "filenames = [r'C:\\Users\\Administrator\\Data\\HurricaneMichael\\gif_images\\pre_small.tif', r'C:\\Users\\Administrator\\Data\\HurricaneMichael\\gif_images\\post_small.tif']\n",
    "exportname = r'C:\\Users\\Administrator\\Data\\HurricaneMichael\\gif_images\\H_M_final.gif'\n",
    "\n",
    "images = []\n",
    "for filename in filenames:\n",
    "    images.append(imageio.imread(filename))\n",
    "imageio.mimsave(exportname, images, format='GIF', duration=5)"
   ]
  },
  {
   "cell_type": "code",
   "execution_count": null,
   "metadata": {},
   "outputs": [],
   "source": []
  }
 ],
 "metadata": {
  "kernelspec": {
   "display_name": "Python 3",
   "language": "python",
   "name": "python3"
  },
  "language_info": {
   "codemirror_mode": {
    "name": "ipython",
    "version": 3
   },
   "file_extension": ".py",
   "mimetype": "text/x-python",
   "name": "python",
   "nbconvert_exporter": "python",
   "pygments_lexer": "ipython3",
   "version": "3.6.5"
  }
 },
 "nbformat": 4,
 "nbformat_minor": 2
}
